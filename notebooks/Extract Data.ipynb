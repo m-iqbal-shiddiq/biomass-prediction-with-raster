{
 "cells": [
  {
   "cell_type": "code",
   "execution_count": 37,
   "metadata": {},
   "outputs": [],
   "source": [
    "import rasterio\n",
    "import numpy as np\n",
    "import pandas as pd"
   ]
  },
  {
   "cell_type": "code",
   "execution_count": 38,
   "metadata": {},
   "outputs": [],
   "source": [
    "raster_file = '../results/Raster_L8_L1TP_20220822_predicted.tif'"
   ]
  },
  {
   "cell_type": "code",
   "execution_count": 39,
   "metadata": {},
   "outputs": [],
   "source": [
    "with rasterio.open(raster_file) as src:\n",
    "    bands = []\n",
    "    for i in range(1, 9):\n",
    "        band = src.read(i)\n",
    "        bands.append(band)\n",
    "\n",
    "    bands_array = np.stack(bands, axis=0)\n",
    "    bands_array = np.transpose(bands_array, (1, 2, 0)) \n",
    "\n",
    "    height, width, _ = bands_array.shape\n",
    "    lats = np.zeros((height, width))\n",
    "    lons = np.zeros((height, width))\n",
    "\n",
    "    for row in range(height):\n",
    "        for col in range(width):\n",
    "            lon, lat = src.xy(row, col)\n",
    "            lats[row, col] = lat\n",
    "            lons[row, col] = lon"
   ]
  },
  {
   "cell_type": "code",
   "execution_count": 40,
   "metadata": {},
   "outputs": [],
   "source": [
    "flat_lats = lats.flatten()\n",
    "flat_lons = lons.flatten()\n",
    "flat_bands = bands_array.reshape(-1, 8)"
   ]
  },
  {
   "cell_type": "code",
   "execution_count": 41,
   "metadata": {},
   "outputs": [],
   "source": [
    "data = {\n",
    "    'latitude': flat_lats,\n",
    "    'longitude': flat_lons,\n",
    "    'band1': flat_bands[:, 0],\n",
    "    'band2': flat_bands[:, 1],\n",
    "    'band3': flat_bands[:, 2],\n",
    "    'band4': flat_bands[:, 3],\n",
    "    'band5': flat_bands[:, 4],\n",
    "    'band6': flat_bands[:, 5],\n",
    "    'band7': flat_bands[:, 6],\n",
    "    'class': flat_bands[:, 7]\n",
    "}"
   ]
  },
  {
   "cell_type": "code",
   "execution_count": 42,
   "metadata": {},
   "outputs": [],
   "source": [
    "df = pd.DataFrame(data)"
   ]
  },
  {
   "cell_type": "code",
   "execution_count": null,
   "metadata": {},
   "outputs": [],
   "source": [
    "output_csv = '../results/Raster_L8_L1TP_20220822_predicted.csv'\n",
    "df.to_csv(output_csv, index=False)"
   ]
  }
 ],
 "metadata": {
  "kernelspec": {
   "display_name": "venv",
   "language": "python",
   "name": "python3"
  },
  "language_info": {
   "codemirror_mode": {
    "name": "ipython",
    "version": 3
   },
   "file_extension": ".py",
   "mimetype": "text/x-python",
   "name": "python",
   "nbconvert_exporter": "python",
   "pygments_lexer": "ipython3",
   "version": "3.10.13"
  }
 },
 "nbformat": 4,
 "nbformat_minor": 2
}
